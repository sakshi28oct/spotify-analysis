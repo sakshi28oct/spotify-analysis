{
 "cells": [
  {
   "cell_type": "code",
   "execution_count": 3,
   "id": "49ed1881",
   "metadata": {},
   "outputs": [],
   "source": [
    "import pandas as pd\n",
    "import seaborn as sns\n",
    "import matplotlib.pyplot as plt"
   ]
  },
  {
   "cell_type": "code",
   "execution_count": 5,
   "id": "cf4aa297",
   "metadata": {},
   "outputs": [],
   "source": [
    "df= pd.read_csv(r\"C:\\Users\\User\\Downloads\\archive (1)\\top_hiphop_artists_tracks.csv\")"
   ]
  },
  {
   "cell_type": "code",
   "execution_count": 6,
   "id": "198a2edd",
   "metadata": {},
   "outputs": [
    {
     "data": {
      "text/html": [
       "<div>\n",
       "<style scoped>\n",
       "    .dataframe tbody tr th:only-of-type {\n",
       "        vertical-align: middle;\n",
       "    }\n",
       "\n",
       "    .dataframe tbody tr th {\n",
       "        vertical-align: top;\n",
       "    }\n",
       "\n",
       "    .dataframe thead th {\n",
       "        text-align: right;\n",
       "    }\n",
       "</style>\n",
       "<table border=\"1\" class=\"dataframe\">\n",
       "  <thead>\n",
       "    <tr style=\"text-align: right;\">\n",
       "      <th></th>\n",
       "      <th>Artist</th>\n",
       "      <th>Track Name</th>\n",
       "      <th>Popularity</th>\n",
       "      <th>Duration (ms)</th>\n",
       "      <th>Track ID</th>\n",
       "    </tr>\n",
       "  </thead>\n",
       "  <tbody>\n",
       "    <tr>\n",
       "      <th>0</th>\n",
       "      <td>Drake</td>\n",
       "      <td>Rich Baby Daddy (feat. Sexyy Red &amp; SZA)</td>\n",
       "      <td>92</td>\n",
       "      <td>319191</td>\n",
       "      <td>1yeB8MUNeLo9Ek1UEpsyz6</td>\n",
       "    </tr>\n",
       "    <tr>\n",
       "      <th>1</th>\n",
       "      <td>Drake</td>\n",
       "      <td>One Dance</td>\n",
       "      <td>91</td>\n",
       "      <td>173986</td>\n",
       "      <td>1zi7xx7UVEFkmKfv06H8x0</td>\n",
       "    </tr>\n",
       "    <tr>\n",
       "      <th>2</th>\n",
       "      <td>Drake</td>\n",
       "      <td>IDGAF (feat. Yeat)</td>\n",
       "      <td>90</td>\n",
       "      <td>260111</td>\n",
       "      <td>2YSzYUF3jWqb9YP9VXmpjE</td>\n",
       "    </tr>\n",
       "    <tr>\n",
       "      <th>3</th>\n",
       "      <td>Drake</td>\n",
       "      <td>First Person Shooter (feat. J. Cole)</td>\n",
       "      <td>88</td>\n",
       "      <td>247444</td>\n",
       "      <td>7aqfrAY2p9BUSiupwk3svU</td>\n",
       "    </tr>\n",
       "    <tr>\n",
       "      <th>4</th>\n",
       "      <td>Drake</td>\n",
       "      <td>Jimmy Cooks (feat. 21 Savage)</td>\n",
       "      <td>88</td>\n",
       "      <td>218364</td>\n",
       "      <td>3F5CgOj3wFlRv51JsHbxhe</td>\n",
       "    </tr>\n",
       "  </tbody>\n",
       "</table>\n",
       "</div>"
      ],
      "text/plain": [
       "  Artist                               Track Name  Popularity  Duration (ms)  \\\n",
       "0  Drake  Rich Baby Daddy (feat. Sexyy Red & SZA)          92         319191   \n",
       "1  Drake                                One Dance          91         173986   \n",
       "2  Drake                       IDGAF (feat. Yeat)          90         260111   \n",
       "3  Drake     First Person Shooter (feat. J. Cole)          88         247444   \n",
       "4  Drake            Jimmy Cooks (feat. 21 Savage)          88         218364   \n",
       "\n",
       "                 Track ID  \n",
       "0  1yeB8MUNeLo9Ek1UEpsyz6  \n",
       "1  1zi7xx7UVEFkmKfv06H8x0  \n",
       "2  2YSzYUF3jWqb9YP9VXmpjE  \n",
       "3  7aqfrAY2p9BUSiupwk3svU  \n",
       "4  3F5CgOj3wFlRv51JsHbxhe  "
      ]
     },
     "execution_count": 6,
     "metadata": {},
     "output_type": "execute_result"
    }
   ],
   "source": [
    "df.head()"
   ]
  },
  {
   "cell_type": "code",
   "execution_count": 8,
   "id": "bfd7aa99",
   "metadata": {},
   "outputs": [
    {
     "data": {
      "text/plain": [
       "Artist           0\n",
       "Track Name       0\n",
       "Popularity       0\n",
       "Duration (ms)    0\n",
       "Track ID         0\n",
       "dtype: int64"
      ]
     },
     "execution_count": 8,
     "metadata": {},
     "output_type": "execute_result"
    }
   ],
   "source": [
    "df.isnull().sum()"
   ]
  },
  {
   "cell_type": "code",
   "execution_count": 9,
   "id": "9adfb839",
   "metadata": {},
   "outputs": [
    {
     "data": {
      "text/plain": [
       "27"
      ]
     },
     "execution_count": 9,
     "metadata": {},
     "output_type": "execute_result"
    }
   ],
   "source": [
    "df.duplicated().sum()"
   ]
  },
  {
   "cell_type": "code",
   "execution_count": 12,
   "id": "24efe624",
   "metadata": {},
   "outputs": [
    {
     "data": {
      "text/plain": [
       "0"
      ]
     },
     "execution_count": 12,
     "metadata": {},
     "output_type": "execute_result"
    }
   ],
   "source": [
    "df.drop_duplicates(inplace=True)\n",
    "df.duplicated().sum()"
   ]
  },
  {
   "cell_type": "code",
   "execution_count": 13,
   "id": "19f422c7",
   "metadata": {},
   "outputs": [
    {
     "data": {
      "text/html": [
       "<div>\n",
       "<style scoped>\n",
       "    .dataframe tbody tr th:only-of-type {\n",
       "        vertical-align: middle;\n",
       "    }\n",
       "\n",
       "    .dataframe tbody tr th {\n",
       "        vertical-align: top;\n",
       "    }\n",
       "\n",
       "    .dataframe thead th {\n",
       "        text-align: right;\n",
       "    }\n",
       "</style>\n",
       "<table border=\"1\" class=\"dataframe\">\n",
       "  <thead>\n",
       "    <tr style=\"text-align: right;\">\n",
       "      <th></th>\n",
       "      <th>Popularity</th>\n",
       "      <th>Duration (ms)</th>\n",
       "    </tr>\n",
       "  </thead>\n",
       "  <tbody>\n",
       "    <tr>\n",
       "      <th>count</th>\n",
       "      <td>413.000000</td>\n",
       "      <td>413.000000</td>\n",
       "    </tr>\n",
       "    <tr>\n",
       "      <th>mean</th>\n",
       "      <td>75.384988</td>\n",
       "      <td>206358.496368</td>\n",
       "    </tr>\n",
       "    <tr>\n",
       "      <th>std</th>\n",
       "      <td>9.789010</td>\n",
       "      <td>53980.643666</td>\n",
       "    </tr>\n",
       "    <tr>\n",
       "      <th>min</th>\n",
       "      <td>29.000000</td>\n",
       "      <td>81666.000000</td>\n",
       "    </tr>\n",
       "    <tr>\n",
       "      <th>25%</th>\n",
       "      <td>70.000000</td>\n",
       "      <td>172185.000000</td>\n",
       "    </tr>\n",
       "    <tr>\n",
       "      <th>50%</th>\n",
       "      <td>76.000000</td>\n",
       "      <td>201480.000000</td>\n",
       "    </tr>\n",
       "    <tr>\n",
       "      <th>75%</th>\n",
       "      <td>82.000000</td>\n",
       "      <td>235093.000000</td>\n",
       "    </tr>\n",
       "    <tr>\n",
       "      <th>max</th>\n",
       "      <td>97.000000</td>\n",
       "      <td>501648.000000</td>\n",
       "    </tr>\n",
       "  </tbody>\n",
       "</table>\n",
       "</div>"
      ],
      "text/plain": [
       "       Popularity  Duration (ms)\n",
       "count  413.000000     413.000000\n",
       "mean    75.384988  206358.496368\n",
       "std      9.789010   53980.643666\n",
       "min     29.000000   81666.000000\n",
       "25%     70.000000  172185.000000\n",
       "50%     76.000000  201480.000000\n",
       "75%     82.000000  235093.000000\n",
       "max     97.000000  501648.000000"
      ]
     },
     "execution_count": 13,
     "metadata": {},
     "output_type": "execute_result"
    }
   ],
   "source": [
    "df.describe()"
   ]
  },
  {
   "cell_type": "code",
   "execution_count": 11,
   "id": "33306010",
   "metadata": {},
   "outputs": [
    {
     "data": {
      "image/png": "[encoded data removed]",
      "text/plain": [
       "<Figure size 1000x600 with 1 Axes>"
      ]
     },
     "metadata": {},
     "output_type": "display_data"
    }
   ],
   "source": [
    "plt.figure(figsize=(10, 6))\n",
    "sns.histplot(df['Popularity'], bins=20, kde=True)\n",
    "plt.title('Distribution of Popularity')\n",
    "plt.xlabel('Popularity')\n",
    "plt.ylabel('Frequency')\n",
    "plt.show()"
   ]
  },
  {
   "cell_type": "code",
   "execution_count": 15,
   "id": "168f9b95",
   "metadata": {},
   "outputs": [
    {
     "data": {
      "text/plain": [
       "Drake        17\n",
       "Eminem       11\n",
       "Flo Rida     10\n",
       "Ludacris     10\n",
       "Timbaland    10\n",
       "¥$           10\n",
       "21 Savage    10\n",
       "JAY-Z        10\n",
       "Lil Nas X    10\n",
       "Name: Artist, dtype: int64"
      ]
     },
     "execution_count": 15,
     "metadata": {},
     "output_type": "execute_result"
    }
   ],
   "source": [
    "df.Artist.value_counts()[df.Artist.value_counts()>9]"
   ]
  },
  {
   "cell_type": "code",
   "execution_count": 32,
   "id": "ed218d5e",
   "metadata": {},
   "outputs": [
    {
     "data": {
      "text/plain": [
       "97"
      ]
     },
     "execution_count": 32,
     "metadata": {},
     "output_type": "execute_result"
    }
   ],
   "source": [
    "df.Popularity.max()"
   ]
  },
  {
   "cell_type": "code",
   "execution_count": 30,
   "id": "1f6ffb23",
   "metadata": {},
   "outputs": [
    {
     "data": {
      "text/html": [
       "<div>\n",
       "<style scoped>\n",
       "    .dataframe tbody tr th:only-of-type {\n",
       "        vertical-align: middle;\n",
       "    }\n",
       "\n",
       "    .dataframe tbody tr th {\n",
       "        vertical-align: top;\n",
       "    }\n",
       "\n",
       "    .dataframe thead th {\n",
       "        text-align: right;\n",
       "    }\n",
       "</style>\n",
       "<table border=\"1\" class=\"dataframe\">\n",
       "  <thead>\n",
       "    <tr style=\"text-align: right;\">\n",
       "      <th></th>\n",
       "      <th>Artist</th>\n",
       "      <th>Track Name</th>\n",
       "      <th>Popularity</th>\n",
       "      <th>Duration (ms)</th>\n",
       "      <th>Track ID</th>\n",
       "    </tr>\n",
       "  </thead>\n",
       "  <tbody>\n",
       "    <tr>\n",
       "      <th>40</th>\n",
       "      <td>Jack Harlow</td>\n",
       "      <td>Lovin On Me</td>\n",
       "      <td>97</td>\n",
       "      <td>138411</td>\n",
       "      <td>4xhsWYTOGcal8zt0J161CU</td>\n",
       "    </tr>\n",
       "    <tr>\n",
       "      <th>70</th>\n",
       "      <td>21 Savage</td>\n",
       "      <td>redrum</td>\n",
       "      <td>96</td>\n",
       "      <td>270697</td>\n",
       "      <td>52eIcoLUM25zbQupAZYoFh</td>\n",
       "    </tr>\n",
       "    <tr>\n",
       "      <th>260</th>\n",
       "      <td>¥$</td>\n",
       "      <td>CARNIVAL</td>\n",
       "      <td>96</td>\n",
       "      <td>264324</td>\n",
       "      <td>3w0w2T288dec0mgeZZqoNN</td>\n",
       "    </tr>\n",
       "    <tr>\n",
       "      <th>30</th>\n",
       "      <td>Travis Scott</td>\n",
       "      <td>FE!N (feat. Playboi Carti)</td>\n",
       "      <td>93</td>\n",
       "      <td>191700</td>\n",
       "      <td>42VsgItocQwOQC3XWZ8JNA</td>\n",
       "    </tr>\n",
       "    <tr>\n",
       "      <th>0</th>\n",
       "      <td>Drake</td>\n",
       "      <td>Rich Baby Daddy (feat. Sexyy Red &amp; SZA)</td>\n",
       "      <td>92</td>\n",
       "      <td>319191</td>\n",
       "      <td>1yeB8MUNeLo9Ek1UEpsyz6</td>\n",
       "    </tr>\n",
       "    <tr>\n",
       "      <th>31</th>\n",
       "      <td>Travis Scott</td>\n",
       "      <td>I KNOW ?</td>\n",
       "      <td>92</td>\n",
       "      <td>211582</td>\n",
       "      <td>6wsqVwoiVH2kde4k4KKAFU</td>\n",
       "    </tr>\n",
       "    <tr>\n",
       "      <th>140</th>\n",
       "      <td>cassö</td>\n",
       "      <td>Prada</td>\n",
       "      <td>92</td>\n",
       "      <td>132359</td>\n",
       "      <td>59NraMJsLaMCVtwXTSia8i</td>\n",
       "    </tr>\n",
       "    <tr>\n",
       "      <th>240</th>\n",
       "      <td>Bizarrap</td>\n",
       "      <td>Young Miko: Bzrp Music Sessions, Vol. 58</td>\n",
       "      <td>92</td>\n",
       "      <td>187172</td>\n",
       "      <td>6VciS3dRMpZhJiDxT8ArFi</td>\n",
       "    </tr>\n",
       "    <tr>\n",
       "      <th>1</th>\n",
       "      <td>Drake</td>\n",
       "      <td>One Dance</td>\n",
       "      <td>91</td>\n",
       "      <td>173986</td>\n",
       "      <td>1zi7xx7UVEFkmKfv06H8x0</td>\n",
       "    </tr>\n",
       "    <tr>\n",
       "      <th>32</th>\n",
       "      <td>Travis Scott</td>\n",
       "      <td>MY EYES</td>\n",
       "      <td>91</td>\n",
       "      <td>251249</td>\n",
       "      <td>4kjI1gwQZRKNDkw1nI475M</td>\n",
       "    </tr>\n",
       "  </tbody>\n",
       "</table>\n",
       "</div>"
      ],
      "text/plain": [
       "           Artist                                Track Name  Popularity  \\\n",
       "40    Jack Harlow                               Lovin On Me          97   \n",
       "70      21 Savage                                    redrum          96   \n",
       "260            ¥$                                  CARNIVAL          96   \n",
       "30   Travis Scott                FE!N (feat. Playboi Carti)          93   \n",
       "0           Drake   Rich Baby Daddy (feat. Sexyy Red & SZA)          92   \n",
       "31   Travis Scott                                  I KNOW ?          92   \n",
       "140         cassö                                     Prada          92   \n",
       "240      Bizarrap  Young Miko: Bzrp Music Sessions, Vol. 58          92   \n",
       "1           Drake                                 One Dance          91   \n",
       "32   Travis Scott                                   MY EYES          91   \n",
       "\n",
       "     Duration (ms)                Track ID  \n",
       "40          138411  4xhsWYTOGcal8zt0J161CU  \n",
       "70          270697  52eIcoLUM25zbQupAZYoFh  \n",
       "260         264324  3w0w2T288dec0mgeZZqoNN  \n",
       "30          191700  42VsgItocQwOQC3XWZ8JNA  \n",
       "0           319191  1yeB8MUNeLo9Ek1UEpsyz6  \n",
       "31          211582  6wsqVwoiVH2kde4k4KKAFU  \n",
       "140         132359  59NraMJsLaMCVtwXTSia8i  \n",
       "240         187172  6VciS3dRMpZhJiDxT8ArFi  \n",
       "1           173986  1zi7xx7UVEFkmKfv06H8x0  \n",
       "32          251249  4kjI1gwQZRKNDkw1nI475M  "
      ]
     },
     "execution_count": 30,
     "metadata": {},
     "output_type": "execute_result"
    }
   ],
   "source": [
    "df[df.Popularity>90].sort_values('Popularity',ascending= False)"
   ]
  },
  {
   "cell_type": "code",
   "execution_count": null,
   "id": "401ce48c",
   "metadata": {},
   "outputs": [],
   "source": []
  },
  {
   "cell_type": "code",
   "execution_count": null,
   "id": "b3fe0f18",
   "metadata": {},
   "outputs": [],
   "source": []
  }
 ],
 "metadata": {
  "kernelspec": {
   "display_name": "Python 3 (ipykernel)",
   "language": "python",
   "name": "python3"
  },
  "language_info": {
   "codemirror_mode": {
    "name": "ipython",
    "version": 3
   },
   "file_extension": ".py",
   "mimetype": "text/x-python",
   "name": "python",
   "nbconvert_exporter": "python",
   "pygments_lexer": "ipython3",
   "version": "3.10.9"
  }
 },
 "nbformat": 4,
 "nbformat_minor": 5
}
